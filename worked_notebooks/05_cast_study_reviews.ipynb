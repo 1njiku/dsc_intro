{
 "cells": [
  {
   "cell_type": "code",
   "execution_count": 1,
   "metadata": {},
   "outputs": [],
   "source": [
    "# import the required libraries here\n",
    "import pandas as pd\n",
    "import matplotlib.pyplot as plt"
   ]
  },
  {
   "cell_type": "markdown",
   "metadata": {},
   "source": [
    "# Extracting desired business reviews\n",
    "In the last notebook we achieved two things. Firstly, we identified the business categories (Italian/Pizza) that our campaign was going to target. Secondly, we identified business IDs associated with those categories. Knowing the business IDs allows us to select just the reviews of interest from the reviews file. Before you go rushing into reading in the review data to then filter just those IDs of interest, as a data scientist you will have first got an idea of the size of the file. The review file is pretty big. Unless you have a very good computer with lots of RAM, or you particularly want to fire up your system/memory monitor and watch the free memory fall further and further until your computer seizes, you should be thinking in terms of how to read in only the lines of interest. This way, you only consume the minimum RAM necessary. Of course, in general, even then you should be making some sort of calculation as to whether even this would be within the capabilities of your hardware. In this case, it should be doable for most modernish computers."
   ]
  },
  {
   "cell_type": "code",
   "execution_count": 58,
   "metadata": {},
   "outputs": [],
   "source": [
    "businesses = pd.read_csv('business_list.csv')"
   ]
  },
  {
   "cell_type": "code",
   "execution_count": 59,
   "metadata": {},
   "outputs": [
    {
     "data": {
      "text/html": [
       "<div>\n",
       "<style scoped>\n",
       "    .dataframe tbody tr th:only-of-type {\n",
       "        vertical-align: middle;\n",
       "    }\n",
       "\n",
       "    .dataframe tbody tr th {\n",
       "        vertical-align: top;\n",
       "    }\n",
       "\n",
       "    .dataframe thead th {\n",
       "        text-align: right;\n",
       "    }\n",
       "</style>\n",
       "<table border=\"1\" class=\"dataframe\">\n",
       "  <thead>\n",
       "    <tr style=\"text-align: right;\">\n",
       "      <th></th>\n",
       "      <th>business_id</th>\n",
       "      <th>review_count</th>\n",
       "      <th>stars</th>\n",
       "      <th>state</th>\n",
       "    </tr>\n",
       "  </thead>\n",
       "  <tbody>\n",
       "    <tr>\n",
       "      <th>0</th>\n",
       "      <td>Apn5Q_b6Nz61Tq4XzPdf9A</td>\n",
       "      <td>24</td>\n",
       "      <td>4.0</td>\n",
       "      <td>AB</td>\n",
       "    </tr>\n",
       "    <tr>\n",
       "      <th>1</th>\n",
       "      <td>6YC6CsXRrmPv_iwfvc9onA</td>\n",
       "      <td>11</td>\n",
       "      <td>3.0</td>\n",
       "      <td>OH</td>\n",
       "    </tr>\n",
       "    <tr>\n",
       "      <th>2</th>\n",
       "      <td>0jtRI7hVMpQHpUVtUy4ITw</td>\n",
       "      <td>242</td>\n",
       "      <td>4.0</td>\n",
       "      <td>NV</td>\n",
       "    </tr>\n",
       "    <tr>\n",
       "      <th>3</th>\n",
       "      <td>AcGRSWCpb7YB95MTsHlGEw</td>\n",
       "      <td>4</td>\n",
       "      <td>2.0</td>\n",
       "      <td>AZ</td>\n",
       "    </tr>\n",
       "    <tr>\n",
       "      <th>4</th>\n",
       "      <td>AYL_y8ahquUW0o-cvIyLbg</td>\n",
       "      <td>85</td>\n",
       "      <td>3.5</td>\n",
       "      <td>NC</td>\n",
       "    </tr>\n",
       "  </tbody>\n",
       "</table>\n",
       "</div>"
      ],
      "text/plain": [
       "              business_id  review_count  stars state\n",
       "0  Apn5Q_b6Nz61Tq4XzPdf9A            24    4.0    AB\n",
       "1  6YC6CsXRrmPv_iwfvc9onA            11    3.0    OH\n",
       "2  0jtRI7hVMpQHpUVtUy4ITw           242    4.0    NV\n",
       "3  AcGRSWCpb7YB95MTsHlGEw             4    2.0    AZ\n",
       "4  AYL_y8ahquUW0o-cvIyLbg            85    3.5    NC"
      ]
     },
     "execution_count": 59,
     "metadata": {},
     "output_type": "execute_result"
    }
   ],
   "source": [
    "businesses.head()"
   ]
  },
  {
   "cell_type": "code",
   "execution_count": 60,
   "metadata": {},
   "outputs": [
    {
     "name": "stdout",
     "output_type": "stream",
     "text": [
      "['Apn5Q_b6Nz61Tq4XzPdf9A' '6YC6CsXRrmPv_iwfvc9onA'\n",
      " '0jtRI7hVMpQHpUVtUy4ITw' 'AcGRSWCpb7YB95MTsHlGEw'\n",
      " 'AYL_y8ahquUW0o-cvIyLbg']\n"
     ]
    }
   ],
   "source": [
    "business_ids = businesses['business_id'].values\n",
    "print(business_ids[:5])"
   ]
  },
  {
   "cell_type": "markdown",
   "metadata": {},
   "source": [
    "## Filtering a large data file in chunks\n",
    "The review data file comprises some nearly 6 million lines. It's rather slow to it in one line at a time, check whether it's a line we want, add that line to a list if it is, and continue to the next line. On the other hand, it is extremely demanding of RAM to read the entire file in as one and then filter the rows in memory. "
   ]
  },
  {
   "cell_type": "code",
   "execution_count": 61,
   "metadata": {},
   "outputs": [],
   "source": [
    "# For convenience here, we are accessing the data in the working directory that contains our notebooks.\n",
    "# Normal best practise is to keep your data separate, but this keeps things simple.\n",
    "# task: create a reader object for the review json file\n",
    "# Hint: use lines=True as before but add the chunksize=1 parameter\n",
    "# one line of code here\n",
    "review_reader = pd.read_json('yelp_academic_dataset_review.json', lines=True, chunksize=100000)"
   ]
  },
  {
   "cell_type": "code",
   "execution_count": 64,
   "metadata": {},
   "outputs": [
    {
     "name": "stdout",
     "output_type": "stream",
     "text": [
      "CPU times: user 24min 11s, sys: 27 s, total: 24min 38s\n",
      "Wall time: 24min 36s\n"
     ]
    }
   ],
   "source": [
    "%%time\n",
    "# task: process the file one chunk at a time,\n",
    "# filter that chunk for rows with a business_id in business_ids\n",
    "# You can either do this within in a loop, having initialized an empty list,\n",
    "# or using a more pythonic list comprehension\n",
    "reviews = [review.loc[review['business_id'].apply(lambda x: x in business_ids)] for review in review_reader]\n",
    "# (this took some 24 minutes on my old i7)"
   ]
  },
  {
   "cell_type": "code",
   "execution_count": 52,
   "metadata": {
    "scrolled": true
   },
   "outputs": [
    {
     "name": "stdout",
     "output_type": "stream",
     "text": [
      "CPU times: user 3min 39s, sys: 3.74 s, total: 3min 43s\n",
      "Wall time: 3min 44s\n"
     ]
    }
   ],
   "source": [
    "%%time\n",
    "counter = 0\n",
    "batches = []\n",
    "for review in review_reader:\n",
    "    counter += 1\n",
    "    batch = review[['business_id', 'review_id', 'user_id']]\n",
    "    batches.append(batch.loc[batch['business_id'].apply(lambda x: x in business_ids)])\n",
    "    if counter == 10:\n",
    "        break\n"
   ]
  },
  {
   "cell_type": "code",
   "execution_count": 65,
   "metadata": {},
   "outputs": [
    {
     "data": {
      "text/plain": [
       "60"
      ]
     },
     "execution_count": 65,
     "metadata": {},
     "output_type": "execute_result"
    }
   ],
   "source": [
    "len(reviews)"
   ]
  },
  {
   "cell_type": "code",
   "execution_count": 66,
   "metadata": {},
   "outputs": [
    {
     "data": {
      "text/plain": [
       "list"
      ]
     },
     "execution_count": 66,
     "metadata": {},
     "output_type": "execute_result"
    }
   ],
   "source": [
    "type(reviews)"
   ]
  },
  {
   "cell_type": "code",
   "execution_count": 67,
   "metadata": {},
   "outputs": [],
   "source": [
    "reviews_df = pd.concat(reviews)"
   ]
  },
  {
   "cell_type": "code",
   "execution_count": 68,
   "metadata": {},
   "outputs": [
    {
     "data": {
      "text/plain": [
       "(506291, 9)"
      ]
     },
     "execution_count": 68,
     "metadata": {},
     "output_type": "execute_result"
    }
   ],
   "source": [
    "reviews_df.shape"
   ]
  },
  {
   "cell_type": "code",
   "execution_count": 69,
   "metadata": {},
   "outputs": [
    {
     "data": {
      "text/html": [
       "<div>\n",
       "<style scoped>\n",
       "    .dataframe tbody tr th:only-of-type {\n",
       "        vertical-align: middle;\n",
       "    }\n",
       "\n",
       "    .dataframe tbody tr th {\n",
       "        vertical-align: top;\n",
       "    }\n",
       "\n",
       "    .dataframe thead th {\n",
       "        text-align: right;\n",
       "    }\n",
       "</style>\n",
       "<table border=\"1\" class=\"dataframe\">\n",
       "  <thead>\n",
       "    <tr style=\"text-align: right;\">\n",
       "      <th></th>\n",
       "      <th>business_id</th>\n",
       "      <th>cool</th>\n",
       "      <th>date</th>\n",
       "      <th>funny</th>\n",
       "      <th>review_id</th>\n",
       "      <th>stars</th>\n",
       "      <th>text</th>\n",
       "      <th>useful</th>\n",
       "      <th>user_id</th>\n",
       "    </tr>\n",
       "  </thead>\n",
       "  <tbody>\n",
       "    <tr>\n",
       "      <th>0</th>\n",
       "      <td>iCQpiavjjPzJ5_3gPD5Ebg</td>\n",
       "      <td>0</td>\n",
       "      <td>2011-02-25</td>\n",
       "      <td>0</td>\n",
       "      <td>x7mDIiDB3jEiPGPHOmDzyw</td>\n",
       "      <td>2</td>\n",
       "      <td>The pizza was okay. Not the best I've had. I p...</td>\n",
       "      <td>0</td>\n",
       "      <td>msQe1u7Z_XuqjGoqhB0J5g</td>\n",
       "    </tr>\n",
       "    <tr>\n",
       "      <th>17</th>\n",
       "      <td>q0n4I-zqiI47xispOqc1lA</td>\n",
       "      <td>0</td>\n",
       "      <td>2016-09-19</td>\n",
       "      <td>0</td>\n",
       "      <td>M9gD64U797dfIpLA9OHYVA</td>\n",
       "      <td>5</td>\n",
       "      <td>Delicious, friendly staff, cool atmosphere, al...</td>\n",
       "      <td>0</td>\n",
       "      <td>eG6HneK9zLcuZpVuKcsCGQ</td>\n",
       "    </tr>\n",
       "    <tr>\n",
       "      <th>25</th>\n",
       "      <td>f-v1fvtnbdw_QQRsCnwH-g</td>\n",
       "      <td>0</td>\n",
       "      <td>2017-11-18</td>\n",
       "      <td>0</td>\n",
       "      <td>alI_kRKyEHfdHibYGgtJbw</td>\n",
       "      <td>1</td>\n",
       "      <td>I have to write a review on the Fractured Prun...</td>\n",
       "      <td>0</td>\n",
       "      <td>Fc_nb6N6Sdurqb-rwsY1Bw</td>\n",
       "    </tr>\n",
       "    <tr>\n",
       "      <th>37</th>\n",
       "      <td>RyTEGJz5tG7zC73BdXt-cQ</td>\n",
       "      <td>0</td>\n",
       "      <td>2016-11-18</td>\n",
       "      <td>0</td>\n",
       "      <td>6lRnO0n3QdkSGlJLUQb15w</td>\n",
       "      <td>5</td>\n",
       "      <td>Best veal sandwich ever ( i like rapini/ garli...</td>\n",
       "      <td>0</td>\n",
       "      <td>zx_Op2OAOM_fRic9tU-jqA</td>\n",
       "    </tr>\n",
       "    <tr>\n",
       "      <th>50</th>\n",
       "      <td>OX0T9dWI8b7meu-ljTo22A</td>\n",
       "      <td>0</td>\n",
       "      <td>2016-05-01</td>\n",
       "      <td>0</td>\n",
       "      <td>oz66Z8p9Etq0WbcZVCmm7w</td>\n",
       "      <td>5</td>\n",
       "      <td>Friendliest staff, no matter how swamped they ...</td>\n",
       "      <td>0</td>\n",
       "      <td>0pf5VuzE4_1pwj5NJHG5TQ</td>\n",
       "    </tr>\n",
       "  </tbody>\n",
       "</table>\n",
       "</div>"
      ],
      "text/plain": [
       "               business_id  cool       date  funny               review_id  \\\n",
       "0   iCQpiavjjPzJ5_3gPD5Ebg     0 2011-02-25      0  x7mDIiDB3jEiPGPHOmDzyw   \n",
       "17  q0n4I-zqiI47xispOqc1lA     0 2016-09-19      0  M9gD64U797dfIpLA9OHYVA   \n",
       "25  f-v1fvtnbdw_QQRsCnwH-g     0 2017-11-18      0  alI_kRKyEHfdHibYGgtJbw   \n",
       "37  RyTEGJz5tG7zC73BdXt-cQ     0 2016-11-18      0  6lRnO0n3QdkSGlJLUQb15w   \n",
       "50  OX0T9dWI8b7meu-ljTo22A     0 2016-05-01      0  oz66Z8p9Etq0WbcZVCmm7w   \n",
       "\n",
       "    stars                                               text  useful  \\\n",
       "0       2  The pizza was okay. Not the best I've had. I p...       0   \n",
       "17      5  Delicious, friendly staff, cool atmosphere, al...       0   \n",
       "25      1  I have to write a review on the Fractured Prun...       0   \n",
       "37      5  Best veal sandwich ever ( i like rapini/ garli...       0   \n",
       "50      5  Friendliest staff, no matter how swamped they ...       0   \n",
       "\n",
       "                   user_id  \n",
       "0   msQe1u7Z_XuqjGoqhB0J5g  \n",
       "17  eG6HneK9zLcuZpVuKcsCGQ  \n",
       "25  Fc_nb6N6Sdurqb-rwsY1Bw  \n",
       "37  zx_Op2OAOM_fRic9tU-jqA  \n",
       "50  0pf5VuzE4_1pwj5NJHG5TQ  "
      ]
     },
     "execution_count": 69,
     "metadata": {},
     "output_type": "execute_result"
    }
   ],
   "source": [
    "reviews_df.head()"
   ]
  },
  {
   "cell_type": "code",
   "execution_count": 70,
   "metadata": {},
   "outputs": [
    {
     "data": {
      "text/plain": [
       "True"
      ]
     },
     "execution_count": 70,
     "metadata": {},
     "output_type": "execute_result"
    }
   ],
   "source": [
    "'iCQpiavjjPzJ5_3gPD5Ebg' in business_ids"
   ]
  },
  {
   "cell_type": "code",
   "execution_count": 71,
   "metadata": {},
   "outputs": [],
   "source": [
    "reviews_df.to_csv('reviews_filtered.csv', index=False)"
   ]
  },
  {
   "cell_type": "code",
   "execution_count": null,
   "metadata": {},
   "outputs": [],
   "source": []
  }
 ],
 "metadata": {
  "kernelspec": {
   "display_name": "Python 3",
   "language": "python",
   "name": "python3"
  },
  "language_info": {
   "codemirror_mode": {
    "name": "ipython",
    "version": 3
   },
   "file_extension": ".py",
   "mimetype": "text/x-python",
   "name": "python",
   "nbconvert_exporter": "python",
   "pygments_lexer": "ipython3",
   "version": "3.6.5"
  }
 },
 "nbformat": 4,
 "nbformat_minor": 2
}
